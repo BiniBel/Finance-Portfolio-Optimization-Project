{
 "cells": [
  {
   "cell_type": "code",
   "execution_count": 1,
   "source": [
    "#This project optimizes my portfolio using the efficient frontier"
   ],
   "outputs": [],
   "metadata": {}
  },
  {
   "cell_type": "code",
   "execution_count": 2,
   "source": [
    "#Import the Python libraries\r\n",
    "from pandas_datareader import data as web\r\n",
    "import pandas as pd\r\n",
    "import numpy as np\r\n",
    "from datetime import datetime\r\n",
    "import matplotlib.pyplot as plt\r\n",
    "plt.style.use('fivethirtyeight')"
   ],
   "outputs": [],
   "metadata": {}
  },
  {
   "cell_type": "code",
   "execution_count": 3,
   "source": [
    "#Get the stock symbols for the five companies in my tech portfolio\r\n",
    "assets = ['FB', 'AMZN', 'AAPL', 'NFLX', 'GOOG']"
   ],
   "outputs": [],
   "metadata": {}
  },
  {
   "cell_type": "code",
   "execution_count": 4,
   "source": [
    "#Assign weights to my stocks \r\n",
    "weights = np.array([0.2, 0.2, 0.2, 0.2, 0.2])"
   ],
   "outputs": [],
   "metadata": {}
  },
  {
   "cell_type": "code",
   "execution_count": 5,
   "source": [
    "#Get the stocks starting date\r\n",
    "stockStartDate = '2013-01-01'"
   ],
   "outputs": [],
   "metadata": {}
  },
  {
   "cell_type": "code",
   "execution_count": 6,
   "source": [
    "#Get the stocks ending date (today)\r\n",
    "today = datetime.today().strftime('%Y-%m-%d')\r\n",
    "today"
   ],
   "outputs": [
    {
     "output_type": "execute_result",
     "data": {
      "text/plain": [
       "'2021-09-02'"
      ]
     },
     "metadata": {},
     "execution_count": 6
    }
   ],
   "metadata": {}
  },
  {
   "cell_type": "code",
   "execution_count": 7,
   "source": [
    "#Create a dataframe to store the adjusted close price of the stocks\r\n",
    "df = pd.DataFrame()"
   ],
   "outputs": [],
   "metadata": {}
  },
  {
   "cell_type": "code",
   "execution_count": 8,
   "source": [
    "\r\n",
    "#Store the adjusted close price of the stock into the df\r\n",
    "for stock in assets:\r\n",
    "    df[stock] = web.DataReader(stock, data_source = 'yahoo', start = stockStartDate, end = today)['Adj Close']"
   ],
   "outputs": [],
   "metadata": {}
  },
  {
   "cell_type": "code",
   "execution_count": 9,
   "source": [
    "#Show the df\r\n",
    "df"
   ],
   "outputs": [
    {
     "output_type": "execute_result",
     "data": {
      "text/html": [
       "<div>\n",
       "<style scoped>\n",
       "    .dataframe tbody tr th:only-of-type {\n",
       "        vertical-align: middle;\n",
       "    }\n",
       "\n",
       "    .dataframe tbody tr th {\n",
       "        vertical-align: top;\n",
       "    }\n",
       "\n",
       "    .dataframe thead th {\n",
       "        text-align: right;\n",
       "    }\n",
       "</style>\n",
       "<table border=\"1\" class=\"dataframe\">\n",
       "  <thead>\n",
       "    <tr style=\"text-align: right;\">\n",
       "      <th></th>\n",
       "      <th>FB</th>\n",
       "      <th>AMZN</th>\n",
       "      <th>AAPL</th>\n",
       "      <th>NFLX</th>\n",
       "      <th>GOOG</th>\n",
       "    </tr>\n",
       "    <tr>\n",
       "      <th>Date</th>\n",
       "      <th></th>\n",
       "      <th></th>\n",
       "      <th></th>\n",
       "      <th></th>\n",
       "      <th></th>\n",
       "    </tr>\n",
       "  </thead>\n",
       "  <tbody>\n",
       "    <tr>\n",
       "      <th>2013-01-02</th>\n",
       "      <td>28.000000</td>\n",
       "      <td>257.309998</td>\n",
       "      <td>16.985447</td>\n",
       "      <td>13.144286</td>\n",
       "      <td>360.274597</td>\n",
       "    </tr>\n",
       "    <tr>\n",
       "      <th>2013-01-03</th>\n",
       "      <td>27.770000</td>\n",
       "      <td>258.480011</td>\n",
       "      <td>16.771053</td>\n",
       "      <td>13.798571</td>\n",
       "      <td>360.483826</td>\n",
       "    </tr>\n",
       "    <tr>\n",
       "      <th>2013-01-04</th>\n",
       "      <td>28.760000</td>\n",
       "      <td>259.149994</td>\n",
       "      <td>16.303900</td>\n",
       "      <td>13.711429</td>\n",
       "      <td>367.607117</td>\n",
       "    </tr>\n",
       "    <tr>\n",
       "      <th>2013-01-07</th>\n",
       "      <td>29.420000</td>\n",
       "      <td>268.459991</td>\n",
       "      <td>16.207998</td>\n",
       "      <td>14.171429</td>\n",
       "      <td>366.003143</td>\n",
       "    </tr>\n",
       "    <tr>\n",
       "      <th>2013-01-08</th>\n",
       "      <td>29.059999</td>\n",
       "      <td>266.380005</td>\n",
       "      <td>16.251616</td>\n",
       "      <td>13.880000</td>\n",
       "      <td>365.280823</td>\n",
       "    </tr>\n",
       "    <tr>\n",
       "      <th>...</th>\n",
       "      <td>...</td>\n",
       "      <td>...</td>\n",
       "      <td>...</td>\n",
       "      <td>...</td>\n",
       "      <td>...</td>\n",
       "    </tr>\n",
       "    <tr>\n",
       "      <th>2021-08-27</th>\n",
       "      <td>372.630005</td>\n",
       "      <td>3349.629883</td>\n",
       "      <td>148.600006</td>\n",
       "      <td>558.919983</td>\n",
       "      <td>2891.010010</td>\n",
       "    </tr>\n",
       "    <tr>\n",
       "      <th>2021-08-30</th>\n",
       "      <td>380.660004</td>\n",
       "      <td>3421.570068</td>\n",
       "      <td>153.119995</td>\n",
       "      <td>566.179993</td>\n",
       "      <td>2909.389893</td>\n",
       "    </tr>\n",
       "    <tr>\n",
       "      <th>2021-08-31</th>\n",
       "      <td>379.380005</td>\n",
       "      <td>3470.790039</td>\n",
       "      <td>151.830002</td>\n",
       "      <td>569.190002</td>\n",
       "      <td>2909.239990</td>\n",
       "    </tr>\n",
       "    <tr>\n",
       "      <th>2021-09-01</th>\n",
       "      <td>382.049988</td>\n",
       "      <td>3479.000000</td>\n",
       "      <td>152.509995</td>\n",
       "      <td>582.070007</td>\n",
       "      <td>2916.840088</td>\n",
       "    </tr>\n",
       "    <tr>\n",
       "      <th>2021-09-02</th>\n",
       "      <td>375.279999</td>\n",
       "      <td>3463.120117</td>\n",
       "      <td>153.649994</td>\n",
       "      <td>588.549988</td>\n",
       "      <td>2884.379883</td>\n",
       "    </tr>\n",
       "  </tbody>\n",
       "</table>\n",
       "<p>2184 rows × 5 columns</p>\n",
       "</div>"
      ],
      "text/plain": [
       "                    FB         AMZN        AAPL        NFLX         GOOG\n",
       "Date                                                                    \n",
       "2013-01-02   28.000000   257.309998   16.985447   13.144286   360.274597\n",
       "2013-01-03   27.770000   258.480011   16.771053   13.798571   360.483826\n",
       "2013-01-04   28.760000   259.149994   16.303900   13.711429   367.607117\n",
       "2013-01-07   29.420000   268.459991   16.207998   14.171429   366.003143\n",
       "2013-01-08   29.059999   266.380005   16.251616   13.880000   365.280823\n",
       "...                ...          ...         ...         ...          ...\n",
       "2021-08-27  372.630005  3349.629883  148.600006  558.919983  2891.010010\n",
       "2021-08-30  380.660004  3421.570068  153.119995  566.179993  2909.389893\n",
       "2021-08-31  379.380005  3470.790039  151.830002  569.190002  2909.239990\n",
       "2021-09-01  382.049988  3479.000000  152.509995  582.070007  2916.840088\n",
       "2021-09-02  375.279999  3463.120117  153.649994  588.549988  2884.379883\n",
       "\n",
       "[2184 rows x 5 columns]"
      ]
     },
     "metadata": {},
     "execution_count": 9
    }
   ],
   "metadata": {}
  },
  {
   "cell_type": "code",
   "execution_count": 10,
   "source": [
    "#Visually show the stock / portfolio\r\n",
    "title = 'Portfolio Adj. Close Price History'\r\n",
    "\r\n",
    "#Get the stocks\r\n",
    "my_stocks = df\r\n",
    "\r\n",
    "#Create and plot the graph\r\n",
    "for c in my_stocks.columns.values:\r\n",
    "    plt.plot(my_stocks[c], label = c)\r\n",
    "    \r\n",
    "plt.title(title)\r\n",
    "plt.xlabel('Date', fontsize = 18)\r\n",
    "plt.ylabel('Adj. Price USD ($)', fontsize = 18)\r\n",
    "plt.legend(my_stocks.columns.values, loc = 'upper left')\r\n",
    "plt.show()"
   ],
   "outputs": [
    {
     "output_type": "display_data",
     "data": {
      "image/png": "[encoded data removed]",
      "text/plain": [
       "<Figure size 432x288 with 1 Axes>"
      ]
     },
     "metadata": {}
    }
   ],
   "metadata": {}
  },
  {
   "cell_type": "code",
   "execution_count": 11,
   "source": [
    "#Show the daily simple return\r\n",
    "returns = df.pct_change()\r\n",
    "returns"
   ],
   "outputs": [
    {
     "output_type": "execute_result",
     "data": {
      "text/html": [
       "<div>\n",
       "<style scoped>\n",
       "    .dataframe tbody tr th:only-of-type {\n",
       "        vertical-align: middle;\n",
       "    }\n",
       "\n",
       "    .dataframe tbody tr th {\n",
       "        vertical-align: top;\n",
       "    }\n",
       "\n",
       "    .dataframe thead th {\n",
       "        text-align: right;\n",
       "    }\n",
       "</style>\n",
       "<table border=\"1\" class=\"dataframe\">\n",
       "  <thead>\n",
       "    <tr style=\"text-align: right;\">\n",
       "      <th></th>\n",
       "      <th>FB</th>\n",
       "      <th>AMZN</th>\n",
       "      <th>AAPL</th>\n",
       "      <th>NFLX</th>\n",
       "      <th>GOOG</th>\n",
       "    </tr>\n",
       "    <tr>\n",
       "      <th>Date</th>\n",
       "      <th></th>\n",
       "      <th></th>\n",
       "      <th></th>\n",
       "      <th></th>\n",
       "      <th></th>\n",
       "    </tr>\n",
       "  </thead>\n",
       "  <tbody>\n",
       "    <tr>\n",
       "      <th>2013-01-02</th>\n",
       "      <td>NaN</td>\n",
       "      <td>NaN</td>\n",
       "      <td>NaN</td>\n",
       "      <td>NaN</td>\n",
       "      <td>NaN</td>\n",
       "    </tr>\n",
       "    <tr>\n",
       "      <th>2013-01-03</th>\n",
       "      <td>-0.008214</td>\n",
       "      <td>0.004547</td>\n",
       "      <td>-0.012622</td>\n",
       "      <td>0.049777</td>\n",
       "      <td>0.000581</td>\n",
       "    </tr>\n",
       "    <tr>\n",
       "      <th>2013-01-04</th>\n",
       "      <td>0.035650</td>\n",
       "      <td>0.002592</td>\n",
       "      <td>-0.027855</td>\n",
       "      <td>-0.006315</td>\n",
       "      <td>0.019760</td>\n",
       "    </tr>\n",
       "    <tr>\n",
       "      <th>2013-01-07</th>\n",
       "      <td>0.022949</td>\n",
       "      <td>0.035925</td>\n",
       "      <td>-0.005882</td>\n",
       "      <td>0.033549</td>\n",
       "      <td>-0.004363</td>\n",
       "    </tr>\n",
       "    <tr>\n",
       "      <th>2013-01-08</th>\n",
       "      <td>-0.012237</td>\n",
       "      <td>-0.007748</td>\n",
       "      <td>0.002691</td>\n",
       "      <td>-0.020565</td>\n",
       "      <td>-0.001974</td>\n",
       "    </tr>\n",
       "    <tr>\n",
       "      <th>...</th>\n",
       "      <td>...</td>\n",
       "      <td>...</td>\n",
       "      <td>...</td>\n",
       "      <td>...</td>\n",
       "      <td>...</td>\n",
       "    </tr>\n",
       "    <tr>\n",
       "      <th>2021-08-27</th>\n",
       "      <td>0.022641</td>\n",
       "      <td>0.010142</td>\n",
       "      <td>0.007185</td>\n",
       "      <td>0.015996</td>\n",
       "      <td>0.017080</td>\n",
       "    </tr>\n",
       "    <tr>\n",
       "      <th>2021-08-30</th>\n",
       "      <td>0.021550</td>\n",
       "      <td>0.021477</td>\n",
       "      <td>0.030417</td>\n",
       "      <td>0.012989</td>\n",
       "      <td>0.006358</td>\n",
       "    </tr>\n",
       "    <tr>\n",
       "      <th>2021-08-31</th>\n",
       "      <td>-0.003363</td>\n",
       "      <td>0.014385</td>\n",
       "      <td>-0.008425</td>\n",
       "      <td>0.005316</td>\n",
       "      <td>-0.000052</td>\n",
       "    </tr>\n",
       "    <tr>\n",
       "      <th>2021-09-01</th>\n",
       "      <td>0.007038</td>\n",
       "      <td>0.002365</td>\n",
       "      <td>0.004479</td>\n",
       "      <td>0.022629</td>\n",
       "      <td>0.002612</td>\n",
       "    </tr>\n",
       "    <tr>\n",
       "      <th>2021-09-02</th>\n",
       "      <td>-0.017720</td>\n",
       "      <td>-0.004564</td>\n",
       "      <td>0.007475</td>\n",
       "      <td>0.011133</td>\n",
       "      <td>-0.011129</td>\n",
       "    </tr>\n",
       "  </tbody>\n",
       "</table>\n",
       "<p>2184 rows × 5 columns</p>\n",
       "</div>"
      ],
      "text/plain": [
       "                  FB      AMZN      AAPL      NFLX      GOOG\n",
       "Date                                                        \n",
       "2013-01-02       NaN       NaN       NaN       NaN       NaN\n",
       "2013-01-03 -0.008214  0.004547 -0.012622  0.049777  0.000581\n",
       "2013-01-04  0.035650  0.002592 -0.027855 -0.006315  0.019760\n",
       "2013-01-07  0.022949  0.035925 -0.005882  0.033549 -0.004363\n",
       "2013-01-08 -0.012237 -0.007748  0.002691 -0.020565 -0.001974\n",
       "...              ...       ...       ...       ...       ...\n",
       "2021-08-27  0.022641  0.010142  0.007185  0.015996  0.017080\n",
       "2021-08-30  0.021550  0.021477  0.030417  0.012989  0.006358\n",
       "2021-08-31 -0.003363  0.014385 -0.008425  0.005316 -0.000052\n",
       "2021-09-01  0.007038  0.002365  0.004479  0.022629  0.002612\n",
       "2021-09-02 -0.017720 -0.004564  0.007475  0.011133 -0.011129\n",
       "\n",
       "[2184 rows x 5 columns]"
      ]
     },
     "metadata": {},
     "execution_count": 11
    }
   ],
   "metadata": {}
  },
  {
   "cell_type": "code",
   "execution_count": 12,
   "source": [
    "#Create and show the annualized covariance matrix (shows the relationship between the asset prices), 252 is the number of trading days for this year\r\n",
    "cov_matrix_annual = returns.cov()*252\r\n",
    "cov_matrix_annual"
   ],
   "outputs": [
    {
     "output_type": "execute_result",
     "data": {
      "text/html": [
       "<div>\n",
       "<style scoped>\n",
       "    .dataframe tbody tr th:only-of-type {\n",
       "        vertical-align: middle;\n",
       "    }\n",
       "\n",
       "    .dataframe tbody tr th {\n",
       "        vertical-align: top;\n",
       "    }\n",
       "\n",
       "    .dataframe thead th {\n",
       "        text-align: right;\n",
       "    }\n",
       "</style>\n",
       "<table border=\"1\" class=\"dataframe\">\n",
       "  <thead>\n",
       "    <tr style=\"text-align: right;\">\n",
       "      <th></th>\n",
       "      <th>FB</th>\n",
       "      <th>AMZN</th>\n",
       "      <th>AAPL</th>\n",
       "      <th>NFLX</th>\n",
       "      <th>GOOG</th>\n",
       "    </tr>\n",
       "  </thead>\n",
       "  <tbody>\n",
       "    <tr>\n",
       "      <th>FB</th>\n",
       "      <td>0.116027</td>\n",
       "      <td>0.053823</td>\n",
       "      <td>0.044541</td>\n",
       "      <td>0.055656</td>\n",
       "      <td>0.049840</td>\n",
       "    </tr>\n",
       "    <tr>\n",
       "      <th>AMZN</th>\n",
       "      <td>0.053823</td>\n",
       "      <td>0.091435</td>\n",
       "      <td>0.039637</td>\n",
       "      <td>0.061707</td>\n",
       "      <td>0.046592</td>\n",
       "    </tr>\n",
       "    <tr>\n",
       "      <th>AAPL</th>\n",
       "      <td>0.044541</td>\n",
       "      <td>0.039637</td>\n",
       "      <td>0.080542</td>\n",
       "      <td>0.035354</td>\n",
       "      <td>0.038167</td>\n",
       "    </tr>\n",
       "    <tr>\n",
       "      <th>NFLX</th>\n",
       "      <td>0.055656</td>\n",
       "      <td>0.061707</td>\n",
       "      <td>0.035354</td>\n",
       "      <td>0.203508</td>\n",
       "      <td>0.047905</td>\n",
       "    </tr>\n",
       "    <tr>\n",
       "      <th>GOOG</th>\n",
       "      <td>0.049840</td>\n",
       "      <td>0.046592</td>\n",
       "      <td>0.038167</td>\n",
       "      <td>0.047905</td>\n",
       "      <td>0.065339</td>\n",
       "    </tr>\n",
       "  </tbody>\n",
       "</table>\n",
       "</div>"
      ],
      "text/plain": [
       "            FB      AMZN      AAPL      NFLX      GOOG\n",
       "FB    0.116027  0.053823  0.044541  0.055656  0.049840\n",
       "AMZN  0.053823  0.091435  0.039637  0.061707  0.046592\n",
       "AAPL  0.044541  0.039637  0.080542  0.035354  0.038167\n",
       "NFLX  0.055656  0.061707  0.035354  0.203508  0.047905\n",
       "GOOG  0.049840  0.046592  0.038167  0.047905  0.065339"
      ]
     },
     "metadata": {},
     "execution_count": 12
    }
   ],
   "metadata": {}
  },
  {
   "cell_type": "code",
   "execution_count": 13,
   "source": [
    "#Calculate the portfolio variance \r\n",
    "port_variance = np.dot(weights.T, np.dot(cov_matrix_annual, weights))\r\n",
    "port_variance"
   ],
   "outputs": [
    {
     "output_type": "execute_result",
     "data": {
      "text/plain": [
       "0.06013181218720311"
      ]
     },
     "metadata": {},
     "execution_count": 13
    }
   ],
   "metadata": {}
  },
  {
   "cell_type": "code",
   "execution_count": 14,
   "source": [
    "#Calculate the portfolio volatility also know as standard deviation\r\n",
    "port_volatility = np.sqrt(port_variance)\r\n",
    "port_volatility"
   ],
   "outputs": [
    {
     "output_type": "execute_result",
     "data": {
      "text/plain": [
       "0.2452178871681328"
      ]
     },
     "metadata": {},
     "execution_count": 14
    }
   ],
   "metadata": {}
  },
  {
   "cell_type": "code",
   "execution_count": 15,
   "source": [
    "#Calculate the annual portfolio return\r\n",
    "portfolioSimpleAnnualReturn = np.sum(returns.mean()*weights)*252\r\n",
    "portfolioSimpleAnnualReturn"
   ],
   "outputs": [
    {
     "output_type": "execute_result",
     "data": {
      "text/plain": [
       "0.3615520932308022"
      ]
     },
     "metadata": {},
     "execution_count": 15
    }
   ],
   "metadata": {}
  },
  {
   "cell_type": "code",
   "execution_count": 16,
   "source": [
    "#Show the expected annual return, volatility (risk), and variance\r\n",
    "\r\n",
    "percent_var = str(round(port_variance, 2) * 100) + '%'\r\n",
    "percent_vols = str(round(port_volatility, 2) * 100) + '%'\r\n",
    "percent_ret = str(round(portfolioSimpleAnnualReturn, 2) * 100) + '%'\r\n",
    "\r\n",
    "\r\n",
    "print('Expected Annual Return: '+percent_ret)\r\n",
    "print('Annual Volatility / Risk: '+percent_vols)\r\n",
    "print('Annual Variance: '+percent_var)"
   ],
   "outputs": [
    {
     "output_type": "stream",
     "name": "stdout",
     "text": [
      "Expected Annual Return: 36.0%\n",
      "Annual Volatility / Risk: 25.0%\n",
      "Annual Variance: 6.0%\n"
     ]
    }
   ],
   "metadata": {}
  },
  {
   "cell_type": "code",
   "execution_count": 17,
   "source": [
    "pip install PyPortfolioOpt"
   ],
   "outputs": [
    {
     "output_type": "stream",
     "name": "stdout",
     "text": [
      "Requirement already satisfied: PyPortfolioOpt in c:\\users\\binia\\anaconda3\\lib\\site-packages (1.4.2)\n",
      "Requirement already satisfied: scipy<2.0,>=1.3 in c:\\users\\binia\\anaconda3\\lib\\site-packages (from PyPortfolioOpt) (1.6.2)\n",
      "Requirement already satisfied: pandas>=0.19 in c:\\users\\binia\\anaconda3\\lib\\site-packages (from PyPortfolioOpt) (1.2.4)\n",
      "Requirement already satisfied: cvxpy<2.0.0,>=1.1.10 in c:\\users\\binia\\anaconda3\\lib\\site-packages (from PyPortfolioOpt) (1.1.15)\n",
      "Requirement already satisfied: numpy<2.0,>=1.12 in c:\\users\\binia\\anaconda3\\lib\\site-packages (from PyPortfolioOpt) (1.20.1)\n",
      "Requirement already satisfied: osqp>=0.4.1 in c:\\users\\binia\\anaconda3\\lib\\site-packages (from cvxpy<2.0.0,>=1.1.10->PyPortfolioOpt) (0.6.2.post0)\n",
      "Requirement already satisfied: scs>=1.1.6 in c:\\users\\binia\\anaconda3\\lib\\site-packages (from cvxpy<2.0.0,>=1.1.10->PyPortfolioOpt) (2.1.4)\n",
      "Requirement already satisfied: ecos>=2 in c:\\users\\binia\\anaconda3\\lib\\site-packages (from cvxpy<2.0.0,>=1.1.10->PyPortfolioOpt) (2.0.7.post1)\n",
      "Requirement already satisfied: qdldl in c:\\users\\binia\\anaconda3\\lib\\site-packages (from osqp>=0.4.1->cvxpy<2.0.0,>=1.1.10->PyPortfolioOpt) (0.1.5.post0)\n",
      "Requirement already satisfied: python-dateutil>=2.7.3 in c:\\users\\binia\\anaconda3\\lib\\site-packages (from pandas>=0.19->PyPortfolioOpt) (2.8.1)\n",
      "Requirement already satisfied: pytz>=2017.3 in c:\\users\\binia\\anaconda3\\lib\\site-packages (from pandas>=0.19->PyPortfolioOpt) (2021.1)\n",
      "Requirement already satisfied: six>=1.5 in c:\\users\\binia\\anaconda3\\lib\\site-packages (from python-dateutil>=2.7.3->pandas>=0.19->PyPortfolioOpt) (1.15.0)\n",
      "Note: you may need to restart the kernel to use updated packages.\n"
     ]
    }
   ],
   "metadata": {}
  },
  {
   "cell_type": "code",
   "execution_count": 18,
   "source": [
    "from pypfopt.efficient_frontier import EfficientFrontier\r\n",
    "from pypfopt import risk_models\r\n",
    "from pypfopt import expected_returns"
   ],
   "outputs": [],
   "metadata": {}
  },
  {
   "cell_type": "code",
   "execution_count": 19,
   "source": [
    "#Portfolio optimization\r\n",
    "\r\n",
    "#Calculate the expected returns and the annualized sample covariance matrix of asset returns\r\n",
    "\r\n",
    "mu = expected_returns.mean_historical_return(df)\r\n",
    "S = risk_models.sample_cov(df)\r\n",
    "\r\n",
    "#Optimize for maximum sharpe ratio\r\n",
    "ef = EfficientFrontier(mu, S)\r\n",
    "weights = ef.max_sharpe()\r\n",
    "cleaned_weights = ef.clean_weights()\r\n",
    "print(cleaned_weights)\r\n",
    "ef.portfolio_performance(verbose = True)\r\n"
   ],
   "outputs": [
    {
     "output_type": "stream",
     "name": "stdout",
     "text": [
      "OrderedDict([('FB', 0.14266), ('AMZN', 0.22737), ('AAPL', 0.26149), ('NFLX', 0.31409), ('GOOG', 0.05439)])\n",
      "Expected annual return: 39.3%\n",
      "Annual volatility: 26.2%\n",
      "Sharpe Ratio: 1.42\n"
     ]
    },
    {
     "output_type": "execute_result",
     "data": {
      "text/plain": [
       "(0.39291201453920827, 0.2620124212777466, 1.4232608237450788)"
      ]
     },
     "metadata": {},
     "execution_count": 19
    }
   ],
   "metadata": {}
  },
  {
   "cell_type": "code",
   "execution_count": 20,
   "source": [
    "0.14266 + 0.22737 + 0.26149 + 0.31409 + 0.05439"
   ],
   "outputs": [
    {
     "output_type": "execute_result",
     "data": {
      "text/plain": [
       "1.0"
      ]
     },
     "metadata": {},
     "execution_count": 20
    }
   ],
   "metadata": {}
  },
  {
   "cell_type": "code",
   "execution_count": null,
   "source": [
    "#conda install -c conda-forge cvxopt (install here)"
   ],
   "outputs": [],
   "metadata": {}
  },
  {
   "cell_type": "code",
   "execution_count": 21,
   "source": [
    "#Get the discrete allocation of each share per stock\r\n",
    "\r\n",
    "from pypfopt.discrete_allocation import DiscreteAllocation, get_latest_prices\r\n",
    "\r\n",
    "latest_prices = get_latest_prices(df)\r\n",
    "weights = cleaned_weights\r\n",
    "da = DiscreteAllocation(weights, latest_prices, total_portfolio_value = 20000)\r\n",
    "\r\n",
    "allocation , leftover = da.lp_portfolio()\r\n",
    "print('Discrete allocation:', allocation)\r\n",
    "print('Funds remaining: ${:.2f}'.format(leftover))"
   ],
   "outputs": [
    {
     "output_type": "stream",
     "name": "stdout",
     "text": [
      "Discrete allocation: {'FB': 7, 'AMZN': 1, 'AAPL': 33, 'NFLX': 10, 'GOOG': 1}\n",
      "Funds remaining: $69.59\n"
     ]
    }
   ],
   "metadata": {}
  }
 ],
 "metadata": {
  "kernelspec": {
   "display_name": "Python 3",
   "language": "python",
   "name": "python3"
  },
  "language_info": {
   "codemirror_mode": {
    "name": "ipython",
    "version": 3
   },
   "file_extension": ".py",
   "mimetype": "text/x-python",
   "name": "python",
   "nbconvert_exporter": "python",
   "pygments_lexer": "ipython3",
   "version": "3.8.8"
  }
 },
 "nbformat": 4,
 "nbformat_minor": 5
}